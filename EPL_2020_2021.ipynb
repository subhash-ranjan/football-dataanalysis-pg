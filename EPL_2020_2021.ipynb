{
  "nbformat": 4,
  "nbformat_minor": 0,
  "metadata": {
    "colab": {
      "name": "EPL-2020-2021.ipynb",
      "provenance": [],
      "collapsed_sections": [],
      "mount_file_id": "https://github.com/subhash-ranjan/football-dataanalysis-pg/blob/main/EPL_2020_2021.ipynb",
      "authorship_tag": "ABX9TyOweYXexm6POtRgJYVtejzt",
      "include_colab_link": true
    },
    "kernelspec": {
      "name": "python3",
      "display_name": "Python 3"
    },
    "language_info": {
      "name": "python"
    }
  },
  "cells": [
    {
      "cell_type": "markdown",
      "metadata": {
        "id": "view-in-github",
        "colab_type": "text"
      },
      "source": [
        "<a href=\"https://colab.research.google.com/github/subhash-ranjan/football-dataanalysis-pg/blob/main/EPL_2020_2021.ipynb\" target=\"_parent\"><img src=\"https://colab.research.google.com/assets/colab-badge.svg\" alt=\"Open In Colab\"/></a>"
      ]
    },
    {
      "cell_type": "code",
      "execution_count": 6,
      "metadata": {
        "id": "5T7zysk9MEva"
      },
      "outputs": [],
      "source": [
        "import pandas as pd\n",
        "import numpy as np\n",
        "import matplotlib.pyplot as plt\n",
        "import seaborn as sns\n",
        "%matplotlib inline\n",
        "\n"
      ]
    },
    {
      "cell_type": "markdown",
      "source": [
        "**Read the dataset**"
      ],
      "metadata": {
        "id": "EvSpeec-Xl51"
      }
    },
    {
      "cell_type": "code",
      "source": [
        "epl_df = pd.read_csv('/content/EPL_20_21.csv')\n",
        "# epd_df.head()"
      ],
      "metadata": {
        "id": "FfB6GmlfXtyf"
      },
      "execution_count": 7,
      "outputs": []
    },
    {
      "cell_type": "markdown",
      "source": [
        "**Check null values**"
      ],
      "metadata": {
        "id": "pwazgKR7jKlh"
      }
    },
    {
      "cell_type": "code",
      "source": [
        "# epl_df.isna().sum()"
      ],
      "metadata": {
        "id": "ZFtd38bDiL4C"
      },
      "execution_count": 8,
      "outputs": []
    },
    {
      "cell_type": "markdown",
      "source": [
        "**Add 2 new columns**"
      ],
      "metadata": {
        "id": "DYBfr-CYjqlQ"
      }
    },
    {
      "cell_type": "code",
      "source": [
        "epl_df['MinsPerMatch']=(epl_df['Mins']/epl_df['Matches']).astype(int)\n",
        "epl_df['GoalsPerMatch']=(epl_df['Goals']/epl_df['Matches']).astype(float)"
      ],
      "metadata": {
        "id": "TV4Tz-c9jy4e"
      },
      "execution_count": 9,
      "outputs": []
    },
    {
      "cell_type": "code",
      "source": [
        "# epl_df.head()"
      ],
      "metadata": {
        "id": "WAgwzg49k1TV"
      },
      "execution_count": 10,
      "outputs": []
    },
    {
      "cell_type": "markdown",
      "source": [
        "**Total goals**"
      ],
      "metadata": {
        "id": "jV17H5Uf5TL_"
      }
    },
    {
      "cell_type": "code",
      "source": [
        "Total_Goals = epl_df['Goals'].sum()"
      ],
      "metadata": {
        "id": "9GyxPn805e4Y"
      },
      "execution_count": 11,
      "outputs": []
    },
    {
      "cell_type": "markdown",
      "source": [
        "**Penalty goals**"
      ],
      "metadata": {
        "id": "kWAGIwPVAxC4"
      }
    },
    {
      "cell_type": "code",
      "source": [
        "Total_PenaltyGoals = epl_df['Penalty_Goals'].sum()\n",
        "print(Total_PenaltyGoals)"
      ],
      "metadata": {
        "colab": {
          "base_uri": "https://localhost:8080/"
        },
        "id": "SgHtgzp5BPuP",
        "outputId": "3af1708f-a275-457b-c1a0-9d822411d7ed"
      },
      "execution_count": 12,
      "outputs": [
        {
          "output_type": "stream",
          "name": "stdout",
          "text": [
            "102\n"
          ]
        }
      ]
    },
    {
      "cell_type": "markdown",
      "source": [
        "**Penalty attempts**"
      ],
      "metadata": {
        "id": "CiXolWe7CA3M"
      }
    },
    {
      "cell_type": "code",
      "source": [
        "Total_PenaltyAttempts = epl_df['Penalty_Attempted'].sum()\n",
        "print(Total_PenaltyAttempts)"
      ],
      "metadata": {
        "colab": {
          "base_uri": "https://localhost:8080/"
        },
        "id": "nCS_sqtqCI50",
        "outputId": "d89abd98-a6f2-455d-c053-c4dab28af2f6"
      },
      "execution_count": 13,
      "outputs": [
        {
          "output_type": "stream",
          "name": "stdout",
          "text": [
            "125\n"
          ]
        }
      ]
    },
    {
      "cell_type": "markdown",
      "source": [
        "**Penalties missed vs scored**"
      ],
      "metadata": {
        "id": "tcxKvtV_ECAb"
      }
    },
    {
      "cell_type": "code",
      "source": [
        "plt.figure(figsize=(13,6))\n",
        "pl_not_scored = Total_PenaltyAttempts - Total_PenaltyGoals\n",
        "data = [pl_not_scored,Total_PenaltyGoals]\n",
        "labels = ['Missed','Scored']\n",
        "color= sns.color_palette('Set2')\n",
        "# plt.pie(data, labels=labels, colors=color,autopct='%.0f%%')\n",
        "# plt.show()"
      ],
      "metadata": {
        "colab": {
          "base_uri": "https://localhost:8080/",
          "height": 35
        },
        "id": "hJ-w7P65EMFG",
        "outputId": "65c36b8f-2dc9-4615-ee3a-289f04d3f35f"
      },
      "execution_count": 14,
      "outputs": [
        {
          "output_type": "display_data",
          "data": {
            "text/plain": [
              "<Figure size 936x432 with 0 Axes>"
            ]
          },
          "metadata": {}
        }
      ]
    },
    {
      "cell_type": "markdown",
      "source": [
        "**Unique positions**"
      ],
      "metadata": {
        "id": "PyvuvRrOGh66"
      }
    },
    {
      "cell_type": "code",
      "source": [
        "epl_df['Position'].unique()"
      ],
      "metadata": {
        "id": "v4CX_4beLZ5B",
        "outputId": "f201685a-2a60-4973-d25a-1637b1c927f6",
        "colab": {
          "base_uri": "https://localhost:8080/"
        }
      },
      "execution_count": 15,
      "outputs": [
        {
          "output_type": "execute_result",
          "data": {
            "text/plain": [
              "array(['MF,FW', 'GK', 'FW', 'DF', 'MF', 'FW,MF', 'FW,DF', 'DF,MF',\n",
              "       'MF,DF', 'DF,FW'], dtype=object)"
            ]
          },
          "metadata": {},
          "execution_count": 15
        }
      ]
    },
    {
      "cell_type": "markdown",
      "source": [
        "**Total forward players**"
      ],
      "metadata": {
        "id": "E29dsw1QLuT1"
      }
    },
    {
      "cell_type": "code",
      "source": [
        "# epl_df[epl_df['Position']=='FW']\n"
      ],
      "metadata": {
        "id": "36AmhOgMLsyh"
      },
      "execution_count": 16,
      "outputs": []
    },
    {
      "cell_type": "markdown",
      "source": [
        "**Most players from which countries**"
      ],
      "metadata": {
        "id": "E6agVoEbqVdV"
      }
    },
    {
      "cell_type": "code",
      "source": [
        "nationality = epl_df.groupby('Nationality').size().sort_values(ascending=False)\n",
        "nationality.head(10).plot(kind='bar',figsize=(12,6), color= sns.color_palette('magma'))"
      ],
      "metadata": {
        "id": "lNm7wziMqle7",
        "outputId": "c4ac9dec-6171-47a7-ff06-e6fe63cf4c70",
        "colab": {
          "base_uri": "https://localhost:8080/",
          "height": 419
        }
      },
      "execution_count": 21,
      "outputs": [
        {
          "output_type": "execute_result",
          "data": {
            "text/plain": [
              "<matplotlib.axes._subplots.AxesSubplot at 0x7fd9735558d0>"
            ]
          },
          "metadata": {},
          "execution_count": 21
        },
        {
          "output_type": "display_data",
          "data": {
            "text/plain": [
              "<Figure size 864x432 with 1 Axes>"
            ],
            "image/png": "[encoded data removed]"
          },
          "metadata": {
            "needs_background": "light"
          }
        }
      ]
    },
    {
      "cell_type": "markdown",
      "source": [
        "**Clubs with maximum players in their squad**"
      ],
      "metadata": {
        "id": "8Egw6gr0tYIa"
      }
    },
    {
      "cell_type": "code",
      "source": [
        ""
      ],
      "metadata": {
        "id": "c4mjEKcPtzK1"
      },
      "execution_count": null,
      "outputs": []
    }
  ]
}