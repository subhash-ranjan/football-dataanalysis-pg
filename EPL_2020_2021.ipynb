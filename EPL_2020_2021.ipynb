{
  "nbformat": 4,
  "nbformat_minor": 0,
  "metadata": {
    "colab": {
      "name": "EPL-2020-2021.ipynb",
      "provenance": [],
      "collapsed_sections": [],
      "mount_file_id": "https://github.com/subhash-ranjan/football-dataanalysis-pg/blob/main/EPL_2020_2021.ipynb",
      "authorship_tag": "ABX9TyOZz7iHZBnU4br1Rasqebd/",
      "include_colab_link": true
    },
    "kernelspec": {
      "name": "python3",
      "display_name": "Python 3"
    },
    "language_info": {
      "name": "python"
    }
  },
  "cells": [
    {
      "cell_type": "markdown",
      "metadata": {
        "id": "view-in-github",
        "colab_type": "text"
      },
      "source": [
        "<a href=\"https://colab.research.google.com/github/subhash-ranjan/football-dataanalysis-pg/blob/main/EPL_2020_2021.ipynb\" target=\"_parent\"><img src=\"https://colab.research.google.com/assets/colab-badge.svg\" alt=\"Open In Colab\"/></a>"
      ]
    },
    {
      "cell_type": "code",
      "execution_count": 2,
      "metadata": {
        "id": "5T7zysk9MEva"
      },
      "outputs": [],
      "source": [
        "import pandas as pd\n",
        "import numpy as np\n",
        "import matplotlib.pyplot as plt\n",
        "import seaborn as sns\n",
        "%matplotlib inline\n",
        "\n"
      ]
    },
    {
      "cell_type": "markdown",
      "source": [
        "**Read the dataset**"
      ],
      "metadata": {
        "id": "EvSpeec-Xl51"
      }
    },
    {
      "cell_type": "code",
      "source": [
        "epl_df = pd.read_csv('/content/EPL_20_21.csv')\n",
        "# epd_df.head()"
      ],
      "metadata": {
        "id": "FfB6GmlfXtyf"
      },
      "execution_count": 3,
      "outputs": []
    },
    {
      "cell_type": "markdown",
      "source": [
        "**Check null values**"
      ],
      "metadata": {
        "id": "pwazgKR7jKlh"
      }
    },
    {
      "cell_type": "code",
      "source": [
        "# epl_df.isna().sum()"
      ],
      "metadata": {
        "id": "ZFtd38bDiL4C"
      },
      "execution_count": 4,
      "outputs": []
    },
    {
      "cell_type": "markdown",
      "source": [
        "**Add 2 new columns**"
      ],
      "metadata": {
        "id": "DYBfr-CYjqlQ"
      }
    },
    {
      "cell_type": "code",
      "source": [
        "epl_df['MinsPerMatch']=(epl_df['Mins']/epl_df['Matches']).astype(int)\n",
        "epl_df['GoalsPerMatch']=(epl_df['Goals']/epl_df['Matches']).astype(float)"
      ],
      "metadata": {
        "id": "TV4Tz-c9jy4e"
      },
      "execution_count": 5,
      "outputs": []
    },
    {
      "cell_type": "code",
      "source": [
        "# epl_df.head()"
      ],
      "metadata": {
        "id": "WAgwzg49k1TV"
      },
      "execution_count": 6,
      "outputs": []
    },
    {
      "cell_type": "markdown",
      "source": [
        "**Total goals**"
      ],
      "metadata": {
        "id": "jV17H5Uf5TL_"
      }
    },
    {
      "cell_type": "code",
      "source": [
        "Total_Goals = epl_df['Goals'].sum()"
      ],
      "metadata": {
        "id": "9GyxPn805e4Y"
      },
      "execution_count": 7,
      "outputs": []
    },
    {
      "cell_type": "markdown",
      "source": [
        "**Penalty goals**"
      ],
      "metadata": {
        "id": "kWAGIwPVAxC4"
      }
    },
    {
      "cell_type": "code",
      "source": [
        "Total_PenaltyGoals = epl_df['Penalty_Goals'].sum()\n",
        "print(Total_PenaltyGoals)"
      ],
      "metadata": {
        "colab": {
          "base_uri": "https://localhost:8080/"
        },
        "id": "SgHtgzp5BPuP",
        "outputId": "853dab11-2938-40d8-9e2d-3e6238a5cad5"
      },
      "execution_count": 8,
      "outputs": [
        {
          "output_type": "stream",
          "name": "stdout",
          "text": [
            "102\n"
          ]
        }
      ]
    },
    {
      "cell_type": "markdown",
      "source": [
        "**Penalty attempts**"
      ],
      "metadata": {
        "id": "CiXolWe7CA3M"
      }
    },
    {
      "cell_type": "code",
      "source": [
        "Total_PenaltyAttempts = epl_df['Penalty_Attempted'].sum()\n",
        "print(Total_PenaltyAttempts)"
      ],
      "metadata": {
        "colab": {
          "base_uri": "https://localhost:8080/"
        },
        "id": "nCS_sqtqCI50",
        "outputId": "da525b52-9013-4c77-da30-c33c8fbfb779"
      },
      "execution_count": 9,
      "outputs": [
        {
          "output_type": "stream",
          "name": "stdout",
          "text": [
            "125\n"
          ]
        }
      ]
    },
    {
      "cell_type": "markdown",
      "source": [
        "**Penalties missed vs scored**"
      ],
      "metadata": {
        "id": "tcxKvtV_ECAb"
      }
    },
    {
      "cell_type": "code",
      "source": [
        "plt.figure(figsize=(13,6))\n",
        "pl_not_scored = Total_PenaltyAttempts - Total_PenaltyGoals\n",
        "data = [pl_not_scored,Total_PenaltyGoals]\n",
        "labels = ['Missed','Scored']\n",
        "color= sns.color_palette('Set2')\n",
        "# plt.pie(data, labels=labels, colors=color,autopct='%.0f%%')\n",
        "# plt.show()"
      ],
      "metadata": {
        "colab": {
          "base_uri": "https://localhost:8080/",
          "height": 35
        },
        "id": "hJ-w7P65EMFG",
        "outputId": "52a610b6-8de0-464c-e470-9134154874fc"
      },
      "execution_count": 10,
      "outputs": [
        {
          "output_type": "display_data",
          "data": {
            "text/plain": [
              "<Figure size 936x432 with 0 Axes>"
            ]
          },
          "metadata": {}
        }
      ]
    },
    {
      "cell_type": "markdown",
      "source": [
        "**Unique positions**"
      ],
      "metadata": {
        "id": "PyvuvRrOGh66"
      }
    },
    {
      "cell_type": "code",
      "source": [
        "epl_df['Position'].unique()"
      ],
      "metadata": {
        "colab": {
          "base_uri": "https://localhost:8080/"
        },
        "id": "v4CX_4beLZ5B",
        "outputId": "2ba2d6c6-45f3-4752-827e-5a9808f48eba"
      },
      "execution_count": 11,
      "outputs": [
        {
          "output_type": "execute_result",
          "data": {
            "text/plain": [
              "array(['MF,FW', 'GK', 'FW', 'DF', 'MF', 'FW,MF', 'FW,DF', 'DF,MF',\n",
              "       'MF,DF', 'DF,FW'], dtype=object)"
            ]
          },
          "metadata": {},
          "execution_count": 11
        }
      ]
    },
    {
      "cell_type": "markdown",
      "source": [
        "**Total forward players**"
      ],
      "metadata": {
        "id": "E29dsw1QLuT1"
      }
    },
    {
      "cell_type": "code",
      "source": [
        "# epl_df[epl_df['Position']=='FW']\n"
      ],
      "metadata": {
        "id": "36AmhOgMLsyh"
      },
      "execution_count": 12,
      "outputs": []
    },
    {
      "cell_type": "markdown",
      "source": [
        "**Most players from which countries**"
      ],
      "metadata": {
        "id": "E6agVoEbqVdV"
      }
    },
    {
      "cell_type": "code",
      "source": [
        "nationality = epl_df.groupby('Nationality').size().sort_values(ascending=False)\n",
        "nationality.head(10).plot(kind='bar',figsize=(12,6), color= sns.color_palette('magma'))"
      ],
      "metadata": {
        "colab": {
          "base_uri": "https://localhost:8080/",
          "height": 419
        },
        "id": "lNm7wziMqle7",
        "outputId": "d761bf39-5cc8-4e01-fa98-394e5ddd0381"
      },
      "execution_count": 13,
      "outputs": [
        {
          "output_type": "execute_result",
          "data": {
            "text/plain": [
              "<matplotlib.axes._subplots.AxesSubplot at 0x7f02799c2b50>"
            ]
          },
          "metadata": {},
          "execution_count": 13
        },
        {
          "output_type": "display_data",
          "data": {
            "text/plain": [
              "<Figure size 864x432 with 1 Axes>"
            ],
            "image/png": "[encoded data removed]"
          },
          "metadata": {
            "needs_background": "light"
          }
        }
      ]
    },
    {
      "cell_type": "markdown",
      "source": [
        "**Clubs with maximum players in their squad**"
      ],
      "metadata": {
        "id": "8Egw6gr0tYIa"
      }
    },
    {
      "cell_type": "code",
      "source": [
        "epl_df['Club'].value_counts().nlargest(5).plot(kind='bar',color=sns.color_palette('viridis'))"
      ],
      "metadata": {
        "colab": {
          "base_uri": "https://localhost:8080/",
          "height": 385
        },
        "id": "c4mjEKcPtzK1",
        "outputId": "52b387f9-f4d4-4df4-e58c-b60ee7c4148c"
      },
      "execution_count": 14,
      "outputs": [
        {
          "output_type": "execute_result",
          "data": {
            "text/plain": [
              "<matplotlib.axes._subplots.AxesSubplot at 0x7f02798bdb50>"
            ]
          },
          "metadata": {},
          "execution_count": 14
        },
        {
          "output_type": "display_data",
          "data": {
            "text/plain": [
              "<Figure size 432x288 with 1 Axes>"
            ],
            "image/png": "[encoded data removed]"
          },
          "metadata": {
            "needs_background": "light"
          }
        }
      ]
    },
    {
      "cell_type": "markdown",
      "source": [
        "**Players based on age group**"
      ],
      "metadata": {
        "id": "0-MU6IlLvpL4"
      }
    },
    {
      "cell_type": "code",
      "source": [
        "under_20 = epl_df[epl_df['Age']<20]\n",
        "under_20_25 = epl_df[(epl_df['Age']>20) & (epl_df['Age'] < 25)]\n",
        "under_25_30 = epl_df[(epl_df['Age']>25) & (epl_df['Age']< 30)]\n",
        "\n",
        "x = np.array([under_20['Name'].count(), under_20_25['Name'].count(), under_25_30['Name'].count()])\n",
        "mylabels = ['<20', '> 20 & <25', '>25 & ,30']\n",
        "plt.title('Total players with different age groups', fontsize= 20)\n",
        "plt.pie(x, labels= mylabels, autopct=\"%.1f%%\")\n",
        "plt.show()\n",
        "\n"
      ],
      "metadata": {
        "id": "dg3QG0-Pz2tp",
        "outputId": "00237b71-e789-4d0a-aafc-68471d792a38",
        "colab": {
          "base_uri": "https://localhost:8080/",
          "height": 269
        }
      },
      "execution_count": 15,
      "outputs": [
        {
          "output_type": "display_data",
          "data": {
            "text/plain": [
              "<Figure size 432x288 with 1 Axes>"
            ],
            "image/png": "[encoded data removed]"
          },
          "metadata": {}
        }
      ]
    },
    {
      "cell_type": "markdown",
      "source": [
        "**Average age of players in each club plot**"
      ],
      "metadata": {
        "id": "Z0afemxN3kce"
      }
    },
    {
      "cell_type": "code",
      "source": [
        "plt.figure(figsize=(12,6))\n",
        "sns.boxplot(x='Club', y='Age', data=epl_df)\n",
        "plt.xticks(rotation = 90)"
      ],
      "metadata": {
        "id": "PbQY9AuwKeYO",
        "outputId": "cdc64b82-6417-45f0-b88e-301206ced719",
        "colab": {
          "base_uri": "https://localhost:8080/",
          "height": 550
        }
      },
      "execution_count": 17,
      "outputs": [
        {
          "output_type": "execute_result",
          "data": {
            "text/plain": [
              "(array([ 0,  1,  2,  3,  4,  5,  6,  7,  8,  9, 10, 11, 12, 13, 14, 15, 16,\n",
              "        17, 18, 19]), <a list of 20 Text major ticklabel objects>)"
            ]
          },
          "metadata": {},
          "execution_count": 17
        },
        {
          "output_type": "display_data",
          "data": {
            "text/plain": [
              "<Figure size 864x432 with 1 Axes>"
            ],
            "image/png": "[encoded data removed]"
          },
          "metadata": {
            "needs_background": "light"
          }
        }
      ]
    },
    {
      "cell_type": "markdown",
      "source": [
        "**Average age of players in each club**"
      ],
      "metadata": {
        "id": "7Vtof_MvLZ5F"
      }
    },
    {
      "cell_type": "code",
      "source": [
        "num_players = epl_df.groupby('Club').size()\n",
        "data = epl_df.groupby('Club')['Age'].sum()/num_players\n",
        "data.sort_values(ascending=True)"
      ],
      "metadata": {
        "id": "WKh5kW5JMMj5",
        "outputId": "f571131e-8b31-47ee-ed74-1f443760f49a",
        "colab": {
          "base_uri": "https://localhost:8080/"
        }
      },
      "execution_count": 22,
      "outputs": [
        {
          "output_type": "execute_result",
          "data": {
            "text/plain": [
              "Club\n",
              "Manchester United          23.862069\n",
              "Southampton                24.137931\n",
              "Aston Villa                24.291667\n",
              "Wolverhampton Wanderers    24.444444\n",
              "Brighton                   24.555556\n",
              "Sheffield United           24.814815\n",
              "Arsenal                    24.965517\n",
              "Fulham                     25.035714\n",
              "Leeds United               25.347826\n",
              "Everton                    25.413793\n",
              "Liverpool FC               25.571429\n",
              "Chelsea                    25.592593\n",
              "Leicester City             25.592593\n",
              "Tottenham Hotspur          25.625000\n",
              "Manchester City            25.708333\n",
              "Newcastle United           26.074074\n",
              "West Bromwich Albion       26.766667\n",
              "Burnley                    27.040000\n",
              "West Ham United            27.500000\n",
              "Crystal Palace             28.333333\n",
              "dtype: float64"
            ]
          },
          "metadata": {},
          "execution_count": 22
        }
      ]
    },
    {
      "cell_type": "markdown",
      "source": [
        "**Total assists from each clubs**"
      ],
      "metadata": {
        "id": "2vIHJBsnNPVE"
      }
    },
    {
      "cell_type": "code",
      "source": [
        "Assists_by_clubs = epl_df.groupby('Club', as_index=False)['Assists'].sum()\n",
        "sns.set_theme(style='whitegrid', color_codes=True)\n",
        "ax = sns.barplot(x='Club', y='Assists', data = Assists_by_clubs, palette ='Set2')\n",
        "ax.set_xlabel('Club', fontsize=20)\n",
        "ax.set_ylabel('Assists', fontsize=20)\n",
        "plt.xticks(rotation = 75)\n",
        "plt.rcParams['figure.figsize']=(20,8)\n",
        "plt.title('Plot of Clubs vs Total assists')"
      ],
      "metadata": {
        "id": "ln-9umLMN6so",
        "outputId": "5db82f0a-fbd9-4f96-9bb7-1f0157fae0e4",
        "colab": {
          "base_uri": "https://localhost:8080/",
          "height": 463
        }
      },
      "execution_count": 33,
      "outputs": [
        {
          "output_type": "execute_result",
          "data": {
            "text/plain": [
              "Text(0.5, 1.0, 'Plot of Clubs vs Total assists')"
            ]
          },
          "metadata": {},
          "execution_count": 33
        },
        {
          "output_type": "display_data",
          "data": {
            "text/plain": [
              "<Figure size 432x288 with 1 Axes>"
            ],
            "image/png": "[encoded data removed]"
          },
          "metadata": {}
        }
      ]
    },
    {
      "cell_type": "markdown",
      "source": [
        "**Top 10 assists**"
      ],
      "metadata": {
        "id": "bTQqTmnVTWaq"
      }
    },
    {
      "cell_type": "code",
      "source": [
        "Top_10_assists = epl_df[['Name', 'Club', 'Assists', 'Matches']].nlargest(n=10, columns = 'Assists')\n",
        "Top_10_assists"
      ],
      "metadata": {
        "id": "wzmQOuq3Tb_E",
        "outputId": "9a9c2c86-05ea-4d86-edcc-0dadc9a8fb85",
        "colab": {
          "base_uri": "https://localhost:8080/",
          "height": 363
        }
      },
      "execution_count": 35,
      "outputs": [
        {
          "output_type": "execute_result",
          "data": {
            "text/plain": [
              "                     Name               Club  Assists  Matches\n",
              "162            Harry Kane  Tottenham Hotspur       14       35\n",
              "34        Kevin De Bruyne    Manchester City       12       25\n",
              "51        Bruno Fernandes  Manchester United       12       37\n",
              "161         Son Heung-min  Tottenham Hotspur       10       37\n",
              "273         Jack Grealish        Aston Villa       10       26\n",
              "54        Marcus Rashford  Manchester United        9       37\n",
              "110           Jamie Vardy     Leicester City        9       34\n",
              "220  Raphael Dias Belloli       Leeds United        9       30\n",
              "2             Timo Werner            Chelsea        8       35\n",
              "136       Aaron Cresswell    West Ham United        8       36"
            ],
            "text/html": [
              "\n",
              "  <div id=\"df-74a6c58a-fa57-4ea3-a15b-843699d35833\">\n",
              "    <div class=\"colab-df-container\">\n",
              "      <div>\n",
              "<style scoped>\n",
              "    .dataframe tbody tr th:only-of-type {\n",
              "        vertical-align: middle;\n",
              "    }\n",
              "\n",
              "    .dataframe tbody tr th {\n",
              "        vertical-align: top;\n",
              "    }\n",
              "\n",
              "    .dataframe thead th {\n",
              "        text-align: right;\n",
              "    }\n",
              "</style>\n",
              "<table border=\"1\" class=\"dataframe\">\n",
              "  <thead>\n",
              "    <tr style=\"text-align: right;\">\n",
              "      <th></th>\n",
              "      <th>Name</th>\n",
              "      <th>Club</th>\n",
              "      <th>Assists</th>\n",
              "      <th>Matches</th>\n",
              "    </tr>\n",
              "  </thead>\n",
              "  <tbody>\n",
              "    <tr>\n",
              "      <th>162</th>\n",
              "      <td>Harry Kane</td>\n",
              "      <td>Tottenham Hotspur</td>\n",
              "      <td>14</td>\n",
              "      <td>35</td>\n",
              "    </tr>\n",
              "    <tr>\n",
              "      <th>34</th>\n",
              "      <td>Kevin De Bruyne</td>\n",
              "      <td>Manchester City</td>\n",
              "      <td>12</td>\n",
              "      <td>25</td>\n",
              "    </tr>\n",
              "    <tr>\n",
              "      <th>51</th>\n",
              "      <td>Bruno Fernandes</td>\n",
              "      <td>Manchester United</td>\n",
              "      <td>12</td>\n",
              "      <td>37</td>\n",
              "    </tr>\n",
              "    <tr>\n",
              "      <th>161</th>\n",
              "      <td>Son Heung-min</td>\n",
              "      <td>Tottenham Hotspur</td>\n",
              "      <td>10</td>\n",
              "      <td>37</td>\n",
              "    </tr>\n",
              "    <tr>\n",
              "      <th>273</th>\n",
              "      <td>Jack Grealish</td>\n",
              "      <td>Aston Villa</td>\n",
              "      <td>10</td>\n",
              "      <td>26</td>\n",
              "    </tr>\n",
              "    <tr>\n",
              "      <th>54</th>\n",
              "      <td>Marcus Rashford</td>\n",
              "      <td>Manchester United</td>\n",
              "      <td>9</td>\n",
              "      <td>37</td>\n",
              "    </tr>\n",
              "    <tr>\n",
              "      <th>110</th>\n",
              "      <td>Jamie Vardy</td>\n",
              "      <td>Leicester City</td>\n",
              "      <td>9</td>\n",
              "      <td>34</td>\n",
              "    </tr>\n",
              "    <tr>\n",
              "      <th>220</th>\n",
              "      <td>Raphael Dias Belloli</td>\n",
              "      <td>Leeds United</td>\n",
              "      <td>9</td>\n",
              "      <td>30</td>\n",
              "    </tr>\n",
              "    <tr>\n",
              "      <th>2</th>\n",
              "      <td>Timo Werner</td>\n",
              "      <td>Chelsea</td>\n",
              "      <td>8</td>\n",
              "      <td>35</td>\n",
              "    </tr>\n",
              "    <tr>\n",
              "      <th>136</th>\n",
              "      <td>Aaron Cresswell</td>\n",
              "      <td>West Ham United</td>\n",
              "      <td>8</td>\n",
              "      <td>36</td>\n",
              "    </tr>\n",
              "  </tbody>\n",
              "</table>\n",
              "</div>\n",
              "      <button class=\"colab-df-convert\" onclick=\"convertToInteractive('df-74a6c58a-fa57-4ea3-a15b-843699d35833')\"\n",
              "              title=\"Convert this dataframe to an interactive table.\"\n",
              "              style=\"display:none;\">\n",
              "        \n",
              "  <svg xmlns=\"http://www.w3.org/2000/svg\" height=\"24px\"viewBox=\"0 0 24 24\"\n",
              "       width=\"24px\">\n",
              "    <path d=\"M0 0h24v24H0V0z\" fill=\"none\"/>\n",
              "    <path d=\"M18.56 5.44l.94 2.06.94-2.06 2.06-.94-2.06-.94-.94-2.06-.94 2.06-2.06.94zm-11 1L8.5 8.5l.94-2.06 2.06-.94-2.06-.94L8.5 2.5l-.94 2.06-2.06.94zm10 10l.94 2.06.94-2.06 2.06-.94-2.06-.94-.94-2.06-.94 2.06-2.06.94z\"/><path d=\"M17.41 7.96l-1.37-1.37c-.4-.4-.92-.59-1.43-.59-.52 0-1.04.2-1.43.59L10.3 9.45l-7.72 7.72c-.78.78-.78 2.05 0 2.83L4 21.41c.39.39.9.59 1.41.59.51 0 1.02-.2 1.41-.59l7.78-7.78 2.81-2.81c.8-.78.8-2.07 0-2.86zM5.41 20L4 18.59l7.72-7.72 1.47 1.35L5.41 20z\"/>\n",
              "  </svg>\n",
              "      </button>\n",
              "      \n",
              "  <style>\n",
              "    .colab-df-container {\n",
              "      display:flex;\n",
              "      flex-wrap:wrap;\n",
              "      gap: 12px;\n",
              "    }\n",
              "\n",
              "    .colab-df-convert {\n",
              "      background-color: #E8F0FE;\n",
              "      border: none;\n",
              "      border-radius: 50%;\n",
              "      cursor: pointer;\n",
              "      display: none;\n",
              "      fill: #1967D2;\n",
              "      height: 32px;\n",
              "      padding: 0 0 0 0;\n",
              "      width: 32px;\n",
              "    }\n",
              "\n",
              "    .colab-df-convert:hover {\n",
              "      background-color: #E2EBFA;\n",
              "      box-shadow: 0px 1px 2px rgba(60, 64, 67, 0.3), 0px 1px 3px 1px rgba(60, 64, 67, 0.15);\n",
              "      fill: #174EA6;\n",
              "    }\n",
              "\n",
              "    [theme=dark] .colab-df-convert {\n",
              "      background-color: #3B4455;\n",
              "      fill: #D2E3FC;\n",
              "    }\n",
              "\n",
              "    [theme=dark] .colab-df-convert:hover {\n",
              "      background-color: #434B5C;\n",
              "      box-shadow: 0px 1px 3px 1px rgba(0, 0, 0, 0.15);\n",
              "      filter: drop-shadow(0px 1px 2px rgba(0, 0, 0, 0.3));\n",
              "      fill: #FFFFFF;\n",
              "    }\n",
              "  </style>\n",
              "\n",
              "      <script>\n",
              "        const buttonEl =\n",
              "          document.querySelector('#df-74a6c58a-fa57-4ea3-a15b-843699d35833 button.colab-df-convert');\n",
              "        buttonEl.style.display =\n",
              "          google.colab.kernel.accessAllowed ? 'block' : 'none';\n",
              "\n",
              "        async function convertToInteractive(key) {\n",
              "          const element = document.querySelector('#df-74a6c58a-fa57-4ea3-a15b-843699d35833');\n",
              "          const dataTable =\n",
              "            await google.colab.kernel.invokeFunction('convertToInteractive',\n",
              "                                                     [key], {});\n",
              "          if (!dataTable) return;\n",
              "\n",
              "          const docLinkHtml = 'Like what you see? Visit the ' +\n",
              "            '<a target=\"_blank\" href=https://colab.research.google.com/notebooks/data_table.ipynb>data table notebook</a>'\n",
              "            + ' to learn more about interactive tables.';\n",
              "          element.innerHTML = '';\n",
              "          dataTable['output_type'] = 'display_data';\n",
              "          await google.colab.output.renderOutput(dataTable, element);\n",
              "          const docLink = document.createElement('div');\n",
              "          docLink.innerHTML = docLinkHtml;\n",
              "          element.appendChild(docLink);\n",
              "        }\n",
              "      </script>\n",
              "    </div>\n",
              "  </div>\n",
              "  "
            ]
          },
          "metadata": {},
          "execution_count": 35
        }
      ]
    },
    {
      "cell_type": "markdown",
      "source": [
        "**Top 10 goals**"
      ],
      "metadata": {
        "id": "pWwmzfVAUH45"
      }
    },
    {
      "cell_type": "code",
      "source": [
        "top_10_goals = epl_df[['Name','Club','Goals','Matches']].nlargest(n=10, columns='Goals')\n",
        "top_10_goals"
      ],
      "metadata": {
        "id": "wMooGTLyWF2L",
        "outputId": "fd079907-0da1-4a1a-d3b9-f2b6d12155e1",
        "colab": {
          "base_uri": "https://localhost:8080/",
          "height": 363
        }
      },
      "execution_count": 37,
      "outputs": [
        {
          "output_type": "execute_result",
          "data": {
            "text/plain": [
              "                      Name               Club  Goals  Matches\n",
              "162             Harry Kane  Tottenham Hotspur     23       35\n",
              "81           Mohamed Salah       Liverpool FC     22       37\n",
              "51         Bruno Fernandes  Manchester United     18       37\n",
              "161          Son Heung-min  Tottenham Hotspur     17       37\n",
              "214        Patrick Bamford       Leeds United     17       38\n",
              "237  Dominic Calvert-Lewin            Everton     16       33\n",
              "110            Jamie Vardy     Leicester City     15       34\n",
              "267          Ollie Watkins        Aston Villa     14       37\n",
              "33          İlkay Gündoğan    Manchester City     13       28\n",
              "191    Alexandre Lacazette            Arsenal     13       31"
            ],
            "text/html": [
              "\n",
              "  <div id=\"df-302a0bf1-7510-4117-9ce5-32c36ae1d502\">\n",
              "    <div class=\"colab-df-container\">\n",
              "      <div>\n",
              "<style scoped>\n",
              "    .dataframe tbody tr th:only-of-type {\n",
              "        vertical-align: middle;\n",
              "    }\n",
              "\n",
              "    .dataframe tbody tr th {\n",
              "        vertical-align: top;\n",
              "    }\n",
              "\n",
              "    .dataframe thead th {\n",
              "        text-align: right;\n",
              "    }\n",
              "</style>\n",
              "<table border=\"1\" class=\"dataframe\">\n",
              "  <thead>\n",
              "    <tr style=\"text-align: right;\">\n",
              "      <th></th>\n",
              "      <th>Name</th>\n",
              "      <th>Club</th>\n",
              "      <th>Goals</th>\n",
              "      <th>Matches</th>\n",
              "    </tr>\n",
              "  </thead>\n",
              "  <tbody>\n",
              "    <tr>\n",
              "      <th>162</th>\n",
              "      <td>Harry Kane</td>\n",
              "      <td>Tottenham Hotspur</td>\n",
              "      <td>23</td>\n",
              "      <td>35</td>\n",
              "    </tr>\n",
              "    <tr>\n",
              "      <th>81</th>\n",
              "      <td>Mohamed Salah</td>\n",
              "      <td>Liverpool FC</td>\n",
              "      <td>22</td>\n",
              "      <td>37</td>\n",
              "    </tr>\n",
              "    <tr>\n",
              "      <th>51</th>\n",
              "      <td>Bruno Fernandes</td>\n",
              "      <td>Manchester United</td>\n",
              "      <td>18</td>\n",
              "      <td>37</td>\n",
              "    </tr>\n",
              "    <tr>\n",
              "      <th>161</th>\n",
              "      <td>Son Heung-min</td>\n",
              "      <td>Tottenham Hotspur</td>\n",
              "      <td>17</td>\n",
              "      <td>37</td>\n",
              "    </tr>\n",
              "    <tr>\n",
              "      <th>214</th>\n",
              "      <td>Patrick Bamford</td>\n",
              "      <td>Leeds United</td>\n",
              "      <td>17</td>\n",
              "      <td>38</td>\n",
              "    </tr>\n",
              "    <tr>\n",
              "      <th>237</th>\n",
              "      <td>Dominic Calvert-Lewin</td>\n",
              "      <td>Everton</td>\n",
              "      <td>16</td>\n",
              "      <td>33</td>\n",
              "    </tr>\n",
              "    <tr>\n",
              "      <th>110</th>\n",
              "      <td>Jamie Vardy</td>\n",
              "      <td>Leicester City</td>\n",
              "      <td>15</td>\n",
              "      <td>34</td>\n",
              "    </tr>\n",
              "    <tr>\n",
              "      <th>267</th>\n",
              "      <td>Ollie Watkins</td>\n",
              "      <td>Aston Villa</td>\n",
              "      <td>14</td>\n",
              "      <td>37</td>\n",
              "    </tr>\n",
              "    <tr>\n",
              "      <th>33</th>\n",
              "      <td>İlkay Gündoğan</td>\n",
              "      <td>Manchester City</td>\n",
              "      <td>13</td>\n",
              "      <td>28</td>\n",
              "    </tr>\n",
              "    <tr>\n",
              "      <th>191</th>\n",
              "      <td>Alexandre Lacazette</td>\n",
              "      <td>Arsenal</td>\n",
              "      <td>13</td>\n",
              "      <td>31</td>\n",
              "    </tr>\n",
              "  </tbody>\n",
              "</table>\n",
              "</div>\n",
              "      <button class=\"colab-df-convert\" onclick=\"convertToInteractive('df-302a0bf1-7510-4117-9ce5-32c36ae1d502')\"\n",
              "              title=\"Convert this dataframe to an interactive table.\"\n",
              "              style=\"display:none;\">\n",
              "        \n",
              "  <svg xmlns=\"http://www.w3.org/2000/svg\" height=\"24px\"viewBox=\"0 0 24 24\"\n",
              "       width=\"24px\">\n",
              "    <path d=\"M0 0h24v24H0V0z\" fill=\"none\"/>\n",
              "    <path d=\"M18.56 5.44l.94 2.06.94-2.06 2.06-.94-2.06-.94-.94-2.06-.94 2.06-2.06.94zm-11 1L8.5 8.5l.94-2.06 2.06-.94-2.06-.94L8.5 2.5l-.94 2.06-2.06.94zm10 10l.94 2.06.94-2.06 2.06-.94-2.06-.94-.94-2.06-.94 2.06-2.06.94z\"/><path d=\"M17.41 7.96l-1.37-1.37c-.4-.4-.92-.59-1.43-.59-.52 0-1.04.2-1.43.59L10.3 9.45l-7.72 7.72c-.78.78-.78 2.05 0 2.83L4 21.41c.39.39.9.59 1.41.59.51 0 1.02-.2 1.41-.59l7.78-7.78 2.81-2.81c.8-.78.8-2.07 0-2.86zM5.41 20L4 18.59l7.72-7.72 1.47 1.35L5.41 20z\"/>\n",
              "  </svg>\n",
              "      </button>\n",
              "      \n",
              "  <style>\n",
              "    .colab-df-container {\n",
              "      display:flex;\n",
              "      flex-wrap:wrap;\n",
              "      gap: 12px;\n",
              "    }\n",
              "\n",
              "    .colab-df-convert {\n",
              "      background-color: #E8F0FE;\n",
              "      border: none;\n",
              "      border-radius: 50%;\n",
              "      cursor: pointer;\n",
              "      display: none;\n",
              "      fill: #1967D2;\n",
              "      height: 32px;\n",
              "      padding: 0 0 0 0;\n",
              "      width: 32px;\n",
              "    }\n",
              "\n",
              "    .colab-df-convert:hover {\n",
              "      background-color: #E2EBFA;\n",
              "      box-shadow: 0px 1px 2px rgba(60, 64, 67, 0.3), 0px 1px 3px 1px rgba(60, 64, 67, 0.15);\n",
              "      fill: #174EA6;\n",
              "    }\n",
              "\n",
              "    [theme=dark] .colab-df-convert {\n",
              "      background-color: #3B4455;\n",
              "      fill: #D2E3FC;\n",
              "    }\n",
              "\n",
              "    [theme=dark] .colab-df-convert:hover {\n",
              "      background-color: #434B5C;\n",
              "      box-shadow: 0px 1px 3px 1px rgba(0, 0, 0, 0.15);\n",
              "      filter: drop-shadow(0px 1px 2px rgba(0, 0, 0, 0.3));\n",
              "      fill: #FFFFFF;\n",
              "    }\n",
              "  </style>\n",
              "\n",
              "      <script>\n",
              "        const buttonEl =\n",
              "          document.querySelector('#df-302a0bf1-7510-4117-9ce5-32c36ae1d502 button.colab-df-convert');\n",
              "        buttonEl.style.display =\n",
              "          google.colab.kernel.accessAllowed ? 'block' : 'none';\n",
              "\n",
              "        async function convertToInteractive(key) {\n",
              "          const element = document.querySelector('#df-302a0bf1-7510-4117-9ce5-32c36ae1d502');\n",
              "          const dataTable =\n",
              "            await google.colab.kernel.invokeFunction('convertToInteractive',\n",
              "                                                     [key], {});\n",
              "          if (!dataTable) return;\n",
              "\n",
              "          const docLinkHtml = 'Like what you see? Visit the ' +\n",
              "            '<a target=\"_blank\" href=https://colab.research.google.com/notebooks/data_table.ipynb>data table notebook</a>'\n",
              "            + ' to learn more about interactive tables.';\n",
              "          element.innerHTML = '';\n",
              "          dataTable['output_type'] = 'display_data';\n",
              "          await google.colab.output.renderOutput(dataTable, element);\n",
              "          const docLink = document.createElement('div');\n",
              "          docLink.innerHTML = docLinkHtml;\n",
              "          element.appendChild(docLink);\n",
              "        }\n",
              "      </script>\n",
              "    </div>\n",
              "  </div>\n",
              "  "
            ]
          },
          "metadata": {},
          "execution_count": 37
        }
      ]
    },
    {
      "cell_type": "markdown",
      "source": [
        ""
      ],
      "metadata": {
        "id": "ltstcYF8WlCu"
      }
    }
  ]
}