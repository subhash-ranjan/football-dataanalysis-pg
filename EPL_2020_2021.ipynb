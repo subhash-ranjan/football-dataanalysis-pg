{
  "nbformat": 4,
  "nbformat_minor": 0,
  "metadata": {
    "colab": {
      "name": "EPL-2020-2021.ipynb",
      "provenance": [],
      "collapsed_sections": [],
      "mount_file_id": "https://github.com/subhash-ranjan/football-dataanalysis-pg/blob/main/EPL_2020_2021.ipynb",
      "authorship_tag": "ABX9TyMB2y922WR1u9+yo9VeNO8/",
      "include_colab_link": true
    },
    "kernelspec": {
      "name": "python3",
      "display_name": "Python 3"
    },
    "language_info": {
      "name": "python"
    }
  },
  "cells": [
    {
      "cell_type": "markdown",
      "metadata": {
        "id": "view-in-github",
        "colab_type": "text"
      },
      "source": [
        "<a href=\"https://colab.research.google.com/github/subhash-ranjan/football-dataanalysis-pg/blob/main/EPL_2020_2021.ipynb\" target=\"_parent\"><img src=\"https://colab.research.google.com/assets/colab-badge.svg\" alt=\"Open In Colab\"/></a>"
      ]
    },
    {
      "cell_type": "code",
      "execution_count": 13,
      "metadata": {
        "id": "5T7zysk9MEva"
      },
      "outputs": [],
      "source": [
        "import pandas as pd\n",
        "import numpy as np\n",
        "import matplotlib.pyplot as plt\n",
        "import seaborn as sns\n",
        "%matplotlib inline\n",
        "\n"
      ]
    },
    {
      "cell_type": "markdown",
      "source": [
        "**Read the dataset**"
      ],
      "metadata": {
        "id": "EvSpeec-Xl51"
      }
    },
    {
      "cell_type": "code",
      "source": [
        "epl_df = pd.read_csv('/content/EPL_20_21.csv')\n",
        "# epd_df.head()"
      ],
      "metadata": {
        "id": "FfB6GmlfXtyf"
      },
      "execution_count": 4,
      "outputs": []
    },
    {
      "cell_type": "markdown",
      "source": [
        "**Check null values**"
      ],
      "metadata": {
        "id": "pwazgKR7jKlh"
      }
    },
    {
      "cell_type": "code",
      "source": [
        "# epl_df.isna().sum()"
      ],
      "metadata": {
        "id": "ZFtd38bDiL4C"
      },
      "execution_count": null,
      "outputs": []
    },
    {
      "cell_type": "markdown",
      "source": [
        "**Add 2 new columns**"
      ],
      "metadata": {
        "id": "DYBfr-CYjqlQ"
      }
    },
    {
      "cell_type": "code",
      "source": [
        "epl_df['MinsPerMatch']=(epl_df['Mins']/epl_df['Matches']).astype(int)\n",
        "epl_df['GoalsPerMatch']=(epl_df['Goals']/epl_df['Matches']).astype(float)"
      ],
      "metadata": {
        "id": "TV4Tz-c9jy4e"
      },
      "execution_count": null,
      "outputs": []
    },
    {
      "cell_type": "code",
      "source": [
        "# epl_df.head()"
      ],
      "metadata": {
        "id": "WAgwzg49k1TV"
      },
      "execution_count": 6,
      "outputs": []
    },
    {
      "cell_type": "markdown",
      "source": [
        "**Total goals**"
      ],
      "metadata": {
        "id": "jV17H5Uf5TL_"
      }
    },
    {
      "cell_type": "code",
      "source": [
        "Total_Goals = epl_df['Goals'].sum()"
      ],
      "metadata": {
        "id": "9GyxPn805e4Y"
      },
      "execution_count": 8,
      "outputs": []
    },
    {
      "cell_type": "markdown",
      "source": [
        "**Penalty goals**"
      ],
      "metadata": {
        "id": "kWAGIwPVAxC4"
      }
    },
    {
      "cell_type": "code",
      "source": [
        "Total_PenaltyGoals = epl_df['Penalty_Goals'].sum()\n",
        "print(Total_PenaltyGoals)"
      ],
      "metadata": {
        "id": "SgHtgzp5BPuP",
        "outputId": "f9f96bcd-deb1-482f-c7b9-524d4ec4816f",
        "colab": {
          "base_uri": "https://localhost:8080/"
        }
      },
      "execution_count": 15,
      "outputs": [
        {
          "output_type": "stream",
          "name": "stdout",
          "text": [
            "102\n"
          ]
        }
      ]
    },
    {
      "cell_type": "markdown",
      "source": [
        "**Penalty attempts**"
      ],
      "metadata": {
        "id": "CiXolWe7CA3M"
      }
    },
    {
      "cell_type": "code",
      "source": [
        "Total_PenaltyAttempts = epl_df['Penalty_Attempted'].sum()\n",
        "print(Total_PenaltyAttempts)"
      ],
      "metadata": {
        "id": "nCS_sqtqCI50",
        "outputId": "4159895c-7d67-4c4b-df5e-856605c71337",
        "colab": {
          "base_uri": "https://localhost:8080/"
        }
      },
      "execution_count": 11,
      "outputs": [
        {
          "output_type": "stream",
          "name": "stdout",
          "text": [
            "125\n"
          ]
        }
      ]
    },
    {
      "cell_type": "markdown",
      "source": [
        "**Penalties missed vs scored**"
      ],
      "metadata": {
        "id": "tcxKvtV_ECAb"
      }
    },
    {
      "cell_type": "code",
      "source": [
        "plt.figure(figsize=(13,6))\n",
        "pl_not_scored = Total_PenaltyAttempts - Total_PenaltyGoals\n",
        "data = [pl_not_scored,Total_PenaltyGoals]\n",
        "labels = ['Missed','Scored']\n",
        "color= sns.color_palette('Set2')\n",
        "# plt.pie(data, labels=labels, colors=color,autopct='%.0f%%')\n",
        "# plt.show()"
      ],
      "metadata": {
        "id": "hJ-w7P65EMFG",
        "outputId": "d15882ad-3c9a-4a01-8291-adf8fe698533",
        "colab": {
          "base_uri": "https://localhost:8080/",
          "height": 35
        }
      },
      "execution_count": 20,
      "outputs": [
        {
          "output_type": "display_data",
          "data": {
            "text/plain": [
              "<Figure size 936x432 with 0 Axes>"
            ]
          },
          "metadata": {}
        }
      ]
    },
    {
      "cell_type": "markdown",
      "source": [
        ""
      ],
      "metadata": {
        "id": "PyvuvRrOGh66"
      }
    }
  ]
}